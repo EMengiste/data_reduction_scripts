{
 "cells": [
  {
   "cell_type": "code",
   "execution_count": 19,
   "id": "c1eb053f",
   "metadata": {},
   "outputs": [],
   "source": [
    "import sys\n",
    "#https://www.geeksforgeeks.org/python-import-module-from-different-directory/#\n",
    "sys.path.append('/home/etmengiste/code/data_reduction_scripts/python')\n",
    "from ezmethods import *\n"
   ]
  },
  {
   "cell_type": "code",
   "execution_count": 37,
   "id": "999ccfc6",
   "metadata": {},
   "outputs": [
    {
     "name": "stdout",
     "output_type": "stream",
     "text": [
      "[1, 0, 0, 0]\n"
     ]
    }
   ],
   "source": [
    "rotation = [1, 0 , 0, 0]\n",
    "angle = 30\n",
    "axis = [1,1,0]\n",
    "print(rotation)"
   ]
  },
  {
   "cell_type": "code",
   "execution_count": 38,
   "id": "6c6d5a58",
   "metadata": {},
   "outputs": [],
   "source": [
    "def rot_to_quat_function(rotMat,option=\"\"):\n",
    "    # Not working dont use\n",
    "    if option == \"\":\n",
    "        # https://en.wikipedia.org/wiki/Rotation_matrix#Quaternion\n",
    "        t = rotMat[0][0]+rotMat[1][1]+rotMat[2][2]\n",
    "        r = (1+t)**0.5\n",
    "        s = 1/(2*r)\n",
    "        w = r/2\n",
    "        x = np.sign(rotMat[2][1]-rotMat[1][2])*abs(.5*(1+rotMat[0][0]-rotMat[1][1]-rotMat[2][2])**0.5)\n",
    "        y = np.sign(rotMat[0][2]-rotMat[2][0])*abs(.5*(1-rotMat[0][0]+rotMat[1][1]-rotMat[2][2])**0.5)\n",
    "        z = np.sign(rotMat[1][0]-rotMat[0][1])*abs(.5*(1-rotMat[0][0]-rotMat[1][1]+rotMat[2][2])**0.5)\n",
    "        return [w,x,y,z]    \n",
    "    elif option == \"2\":\n",
    "        # https://en.wikipedia.org/wiki/Rotation_matrix#Quaternion\n",
    "        t = rotMat[0][0]-rotMat[1][1]-rotMat[2][2]\n",
    "        r = (1+t)**0.5\n",
    "        s = 1/(2*r)\n",
    "        w = (rotMat[2][1]-rotMat[1][2])*s\n",
    "        x = r/2\n",
    "        y = (rotMat[0][2]-rotMat[2][0])*s\n",
    "        z = (rotMat[2][1]-rotMat[1][2])*s\n",
    "        return [w,x,y,z]\n",
    "    elif option ==\"3\":\n",
    "        # https://en.wikipedia.org/wiki/Rotation_matrix#Quaternion\n",
    "        t = rotMat[0][0]+rotMat[1][1]+rotMat[2][2]\n",
    "        r = (1+t)**0.5\n",
    "        s = 1/(2*r)\n",
    "        w = r/2\n",
    "        x = (rotMat[2][1]-rotMat[1][2])*s\n",
    "        y = (rotMat[0][2]-rotMat[2][0])*s\n",
    "        z = (rotMat[2][1]-rotMat[1][2])*s\n",
    "        return [w,x,y,z]\n",
    "\n",
    "##"
   ]
  },
  {
   "cell_type": "code",
   "execution_count": 1,
   "id": "4b3cb40d",
   "metadata": {},
   "outputs": [
    {
     "ename": "NameError",
     "evalue": "name 'quat_of_angle_ax' is not defined",
     "output_type": "error",
     "traceback": [
      "\u001b[0;31m---------------------------------------------------------------------------\u001b[0m",
      "\u001b[0;31mNameError\u001b[0m                                 Traceback (most recent call last)",
      "\u001b[1;32m/home/etmengiste/code/data_reduction_scripts/common_scripts/Untitled.ipynb Cell 4\u001b[0m line \u001b[0;36m3\n\u001b[1;32m      <a href='vscode-notebook-cell:/home/etmengiste/code/data_reduction_scripts/common_scripts/Untitled.ipynb#W3sZmlsZQ%3D%3D?line=0'>1</a>\u001b[0m angle \u001b[39m=\u001b[39m \u001b[39m30\u001b[39m\n\u001b[1;32m      <a href='vscode-notebook-cell:/home/etmengiste/code/data_reduction_scripts/common_scripts/Untitled.ipynb#W3sZmlsZQ%3D%3D?line=1'>2</a>\u001b[0m axis \u001b[39m=\u001b[39m [\u001b[39m1\u001b[39m,\u001b[39m1\u001b[39m,\u001b[39m0\u001b[39m]\n\u001b[0;32m----> <a href='vscode-notebook-cell:/home/etmengiste/code/data_reduction_scripts/common_scripts/Untitled.ipynb#W3sZmlsZQ%3D%3D?line=2'>3</a>\u001b[0m rotation \u001b[39m=\u001b[39m quat_of_angle_ax(angle, axis)\n\u001b[1;32m      <a href='vscode-notebook-cell:/home/etmengiste/code/data_reduction_scripts/common_scripts/Untitled.ipynb#W3sZmlsZQ%3D%3D?line=3'>4</a>\u001b[0m prin\n\u001b[1;32m      <a href='vscode-notebook-cell:/home/etmengiste/code/data_reduction_scripts/common_scripts/Untitled.ipynb#W3sZmlsZQ%3D%3D?line=4'>5</a>\u001b[0m matrix \u001b[39m=\u001b[39m R\u001b[39m.\u001b[39mfrom_quat(rotation)\u001b[39m.\u001b[39mas_matrix()\n",
      "\u001b[0;31mNameError\u001b[0m: name 'quat_of_angle_ax' is not defined"
     ]
    }
   ],
   "source": [
    "angle = 30\n",
    "axis = [1,1,0]\n",
    "rotation = quat_of_angle_ax(angle, axis)\n",
    "prin\n",
    "matrix = R.from_quat(rotation).as_matrix()\n",
    "print(matrix)\n",
    "print(rot_to_quat_function(matrix,option=\"3\"))\n",
    "print(R.from_matrix(matrix).as_quat())"
   ]
  },
  {
   "cell_type": "code",
   "execution_count": null,
   "id": "20f703d9",
   "metadata": {},
   "outputs": [],
   "source": []
  }
 ],
 "metadata": {
  "kernelspec": {
   "display_name": "Python 3",
   "language": "python",
   "name": "python3"
  },
  "language_info": {
   "codemirror_mode": {
    "name": "ipython",
    "version": 3
   },
   "file_extension": ".py",
   "mimetype": "text/x-python",
   "name": "python",
   "nbconvert_exporter": "python",
   "pygments_lexer": "ipython3",
   "version": "3.8.10"
  }
 },
 "nbformat": 4,
 "nbformat_minor": 5
}
